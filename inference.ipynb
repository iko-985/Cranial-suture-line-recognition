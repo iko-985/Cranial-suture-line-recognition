{
 "cells": [
  {
   "cell_type": "code",
   "execution_count": 1,
   "metadata": {},
   "outputs": [
    {
     "name": "stderr",
     "output_type": "stream",
     "text": [
      "Using TensorFlow backend.\n"
     ]
    }
   ],
   "source": [
    "#%tensorflow_version 1.15.0\n",
    "import numpy as np\n",
    "import imageio\n",
    "import matplotlib.pyplot as plt\n",
    "import os\n",
    "import sys\n",
    "import tensorflow as tf\n",
    "import keras\n",
    "import random\n",
    "import h5py\n",
    "#from keras import models\n",
    "from keras import datasets, layers, models\n",
    "\n",
    "import cv2 as cv\n",
    "from PIL import Image\n",
    "\n",
    "from pathlib import Path\n",
    "from tqdm import tqdm"
   ]
  },
  {
   "cell_type": "code",
   "execution_count": 2,
   "metadata": {
    "scrolled": true
   },
   "outputs": [
    {
     "data": {
      "text/plain": [
       "'1.15.0'"
      ]
     },
     "execution_count": 2,
     "metadata": {},
     "output_type": "execute_result"
    }
   ],
   "source": [
    "tf.__version__"
   ]
  },
  {
   "cell_type": "code",
   "execution_count": 3,
   "metadata": {},
   "outputs": [],
   "source": [
    "from keras.models import load_model"
   ]
  },
  {
   "cell_type": "code",
   "execution_count": 4,
   "metadata": {},
   "outputs": [],
   "source": [
    "from keras import backend as K\n",
    "\n",
    "# Metric\n",
    "def iou_coef(y_true, y_pred, smooth=1):\n",
    "    intersection = K.sum(K.abs(y_true * y_pred), axis=[1,2,3])\n",
    "    union = K.sum(y_true,[1,2,3])+K.sum(y_pred,[1,2,3])-intersection\n",
    "    iou = K.mean((intersection + smooth) / (union + smooth), axis=0)\n",
    "  \n",
    "    return iou"
   ]
  },
  {
   "cell_type": "code",
   "execution_count": 5,
   "metadata": {
    "scrolled": true
   },
   "outputs": [
    {
     "name": "stdout",
     "output_type": "stream",
     "text": [
      "WARNING:tensorflow:From /home/yatogami/Documents/denis/git/road-extraction-d-linknet/venv/lib/python3.6/site-packages/keras/backend/tensorflow_backend.py:541: The name tf.placeholder is deprecated. Please use tf.compat.v1.placeholder instead.\n",
      "\n",
      "WARNING:tensorflow:From /home/yatogami/Documents/denis/git/road-extraction-d-linknet/venv/lib/python3.6/site-packages/keras/backend/tensorflow_backend.py:4479: The name tf.truncated_normal is deprecated. Please use tf.random.truncated_normal instead.\n",
      "\n",
      "WARNING:tensorflow:From /home/yatogami/Documents/denis/git/road-extraction-d-linknet/venv/lib/python3.6/site-packages/keras/backend/tensorflow_backend.py:66: The name tf.get_default_graph is deprecated. Please use tf.compat.v1.get_default_graph instead.\n",
      "\n",
      "WARNING:tensorflow:From /home/yatogami/Documents/denis/git/road-extraction-d-linknet/venv/lib/python3.6/site-packages/keras/backend/tensorflow_backend.py:190: The name tf.get_default_session is deprecated. Please use tf.compat.v1.get_default_session instead.\n",
      "\n",
      "WARNING:tensorflow:From /home/yatogami/Documents/denis/git/road-extraction-d-linknet/venv/lib/python3.6/site-packages/keras/backend/tensorflow_backend.py:197: The name tf.ConfigProto is deprecated. Please use tf.compat.v1.ConfigProto instead.\n",
      "\n",
      "WARNING:tensorflow:From /home/yatogami/Documents/denis/git/road-extraction-d-linknet/venv/lib/python3.6/site-packages/keras/backend/tensorflow_backend.py:203: The name tf.Session is deprecated. Please use tf.compat.v1.Session instead.\n",
      "\n",
      "WARNING:tensorflow:From /home/yatogami/Documents/denis/git/road-extraction-d-linknet/venv/lib/python3.6/site-packages/keras/backend/tensorflow_backend.py:207: The name tf.global_variables is deprecated. Please use tf.compat.v1.global_variables instead.\n",
      "\n",
      "WARNING:tensorflow:From /home/yatogami/Documents/denis/git/road-extraction-d-linknet/venv/lib/python3.6/site-packages/keras/backend/tensorflow_backend.py:216: The name tf.is_variable_initialized is deprecated. Please use tf.compat.v1.is_variable_initialized instead.\n",
      "\n",
      "WARNING:tensorflow:From /home/yatogami/Documents/denis/git/road-extraction-d-linknet/venv/lib/python3.6/site-packages/keras/backend/tensorflow_backend.py:223: The name tf.variables_initializer is deprecated. Please use tf.compat.v1.variables_initializer instead.\n",
      "\n",
      "WARNING:tensorflow:From /home/yatogami/Documents/denis/git/road-extraction-d-linknet/venv/lib/python3.6/site-packages/keras/backend/tensorflow_backend.py:2041: The name tf.nn.fused_batch_norm is deprecated. Please use tf.compat.v1.nn.fused_batch_norm instead.\n",
      "\n",
      "WARNING:tensorflow:From /home/yatogami/Documents/denis/git/road-extraction-d-linknet/venv/lib/python3.6/site-packages/keras/backend/tensorflow_backend.py:148: The name tf.placeholder_with_default is deprecated. Please use tf.compat.v1.placeholder_with_default instead.\n",
      "\n",
      "WARNING:tensorflow:From /home/yatogami/Documents/denis/git/road-extraction-d-linknet/venv/lib/python3.6/site-packages/keras/backend/tensorflow_backend.py:4267: The name tf.nn.max_pool is deprecated. Please use tf.nn.max_pool2d instead.\n",
      "\n",
      "WARNING:tensorflow:From /home/yatogami/Documents/denis/git/road-extraction-d-linknet/venv/lib/python3.6/site-packages/keras/backend/tensorflow_backend.py:3733: calling dropout (from tensorflow.python.ops.nn_ops) with keep_prob is deprecated and will be removed in a future version.\n",
      "Instructions for updating:\n",
      "Please use `rate` instead of `keep_prob`. Rate should be set to `rate = 1 - keep_prob`.\n",
      "WARNING:tensorflow:From /home/yatogami/Documents/denis/git/road-extraction-d-linknet/venv/lib/python3.6/site-packages/keras/backend/tensorflow_backend.py:4432: The name tf.random_uniform is deprecated. Please use tf.random.uniform instead.\n",
      "\n",
      "WARNING:tensorflow:From /home/yatogami/Documents/denis/git/road-extraction-d-linknet/venv/lib/python3.6/site-packages/keras/optimizers.py:793: The name tf.train.Optimizer is deprecated. Please use tf.compat.v1.train.Optimizer instead.\n",
      "\n",
      "WARNING:tensorflow:From /home/yatogami/Documents/denis/git/road-extraction-d-linknet/venv/lib/python3.6/site-packages/keras/backend/tensorflow_backend.py:3657: The name tf.log is deprecated. Please use tf.math.log instead.\n",
      "\n",
      "WARNING:tensorflow:From /home/yatogami/Documents/denis/git/road-extraction-d-linknet/venv/lib/python3.6/site-packages/tensorflow_core/python/ops/nn_impl.py:183: where (from tensorflow.python.ops.array_ops) is deprecated and will be removed in a future version.\n",
      "Instructions for updating:\n",
      "Use tf.where in 2.0, which has the same broadcast rule as np.where\n",
      "WARNING:tensorflow:From /home/yatogami/Documents/denis/git/road-extraction-d-linknet/venv/lib/python3.6/site-packages/keras/backend/tensorflow_backend.py:1033: The name tf.assign_add is deprecated. Please use tf.compat.v1.assign_add instead.\n",
      "\n",
      "WARNING:tensorflow:From /home/yatogami/Documents/denis/git/road-extraction-d-linknet/venv/lib/python3.6/site-packages/keras/backend/tensorflow_backend.py:1020: The name tf.assign is deprecated. Please use tf.compat.v1.assign instead.\n",
      "\n"
     ]
    }
   ],
   "source": [
    "model = load_model('../models/my_model_march_28.h5', custom_objects={'iou_coef': iou_coef})"
   ]
  },
  {
   "cell_type": "code",
   "execution_count": 6,
   "metadata": {},
   "outputs": [],
   "source": [
    "def make_prediction(source_img_path, prediction_path, suture_color=(0, 0, 255)):\n",
    "    img = cv.imread(source_img_path)\n",
    "    sagittal_width = int(0.28 * img.shape[1])\n",
    "    \n",
    "    img_sagittal = img[:, :sagittal_width]\n",
    "    pred_list = []\n",
    "    k = 0\n",
    "    while k * sagittal_width + sagittal_width < img_sagittal.shape[0]:\n",
    "        source = img_sagittal[k*sagittal_width: (k+1)*sagittal_width, :sagittal_width]\n",
    "        square = cv.resize(source, (256, 256))\n",
    "        square = cv.cvtColor(square, cv.COLOR_BGR2RGB)\n",
    "\n",
    "        pred_list.append(square)\n",
    "        k += 1\n",
    "\n",
    "    source = img_sagittal[-sagittal_width:, :sagittal_width]\n",
    "    square = cv.resize(source, (256, 256))\n",
    "    square = cv.cvtColor(square, cv.COLOR_BGR2RGB)\n",
    "\n",
    "    pred_list.append(square)\n",
    "\n",
    "    pred_list_array = np.array(pred_list)\n",
    "    prediction = (model.predict(pred_list_array) > 0.5).astype(np.uint8)\n",
    "    prediction_big = [cv.resize(x, (sagittal_width, sagittal_width)) for x in prediction]\n",
    "    \n",
    "    # Construct an output image\n",
    "    last_box = prediction_big[-1]\n",
    "    sag_suture = np.concatenate(prediction_big[0:-1], axis=0)\n",
    "    sag_show = np.zeros((img_sagittal.shape[0], img_sagittal.shape[1]))\n",
    "    sag_show[:sag_suture.shape[0]] = sag_suture\n",
    "    sag_show[-sagittal_width:] = last_box\n",
    "    \n",
    "    # Expand the suture line\n",
    "    sag_show = cv.dilate(sag_show, np.ones((5, 5)))\n",
    "    \n",
    "    sag_show_blur = sag_show.astype(np.uint8)\n",
    "    _, sag_show_blur = cv.threshold(cv.medianBlur(sag_show.astype(np.uint8), 5), 0, 1, cv.THRESH_BINARY)\n",
    "    sag_show_blur_inv = 1 - sag_show_blur\n",
    "\n",
    "    img_out = img.copy().astype(np.uint8)\n",
    "    roi = img_out[:, :sagittal_width]\n",
    "\n",
    "    green_mask = cv.cvtColor(sag_show_blur_inv, cv.COLOR_GRAY2BGR)\n",
    "    green_mask[sag_show_blur_inv == 0] = suture_color\n",
    "\n",
    "    img1_bg = cv.bitwise_and(green_mask, green_mask, mask = sag_show_blur)\n",
    "    img2_fg = cv.bitwise_and(roi, roi, mask = sag_show_blur_inv)\n",
    "\n",
    "    img_out_yo = img.copy()\n",
    "    img_out_yo[:, :sagittal_width] = cv.add(img1_bg, img2_fg)\n",
    "\n",
    "    cv.imwrite(prediction_path, img_out_yo)\n",
    "    # print('ok')\n"
   ]
  },
  {
   "cell_type": "code",
   "execution_count": 7,
   "metadata": {},
   "outputs": [],
   "source": [
    "make_prediction('../Arbeitung.tif', './ArbeitungLol.tif')"
   ]
  },
  {
   "cell_type": "code",
   "execution_count": 8,
   "metadata": {},
   "outputs": [
    {
     "name": "stderr",
     "output_type": "stream",
     "text": [
      "100%|██████████| 35/35 [00:30<00:00,  1.17it/s]\n"
     ]
    }
   ],
   "source": [
    "# Batch prediction\n",
    "input_paths = Path('../batch').glob('*.tif')\n",
    "output_path = '../batch_output'\n",
    "\n",
    "for path in tqdm(list(input_paths)):\n",
    "    output = os.path.join(output_path, path.name)\n",
    "    make_prediction(str(path), output)"
   ]
  }
 ],
 "metadata": {
  "kernelspec": {
   "display_name": "denis-kernel",
   "language": "python",
   "name": "denis-kernel"
  },
  "language_info": {
   "codemirror_mode": {
    "name": "ipython",
    "version": 3
   },
   "file_extension": ".py",
   "mimetype": "text/x-python",
   "name": "python",
   "nbconvert_exporter": "python",
   "pygments_lexer": "ipython3",
   "version": "3.6.9"
  }
 },
 "nbformat": 4,
 "nbformat_minor": 4
}
